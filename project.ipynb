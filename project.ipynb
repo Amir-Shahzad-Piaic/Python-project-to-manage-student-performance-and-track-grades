{
  "nbformat": 4,
  "nbformat_minor": 0,
  "metadata": {
    "colab": {
      "provenance": [],
      "authorship_tag": "ABX9TyPgrANKbRSgVFyhHvhTZFkx",
      "include_colab_link": true
    },
    "kernelspec": {
      "name": "python3",
      "display_name": "Python 3"
    },
    "language_info": {
      "name": "python"
    }
  },
  "cells": [
    {
      "cell_type": "markdown",
      "metadata": {
        "id": "view-in-github",
        "colab_type": "text"
      },
      "source": [
        "<a href=\"https://colab.research.google.com/github/Amir-Shahzad-Piaic/Python-project-to-manage-student-performance-and-track-grades/blob/main/project.ipynb\" target=\"_parent\"><img src=\"https://colab.research.google.com/assets/colab-badge.svg\" alt=\"Open In Colab\"/></a>"
      ]
    },
    {
      "cell_type": "code",
      "source": [
        "class Student:\n",
        "    def __init__(self, name, scores):\n",
        "        self.name = name\n",
        "        self.scores = scores\n",
        "\n",
        "    def calculate_average(self):\n",
        "        return sum(self.scores) / len(self.scores) if self.scores else 0\n",
        "\n",
        "    def is_passing(self, passing_score=40):\n",
        "        return all(score >= passing_score for score in self.scores)\n"
      ],
      "metadata": {
        "id": "9YOLpJnHLsZs"
      },
      "execution_count": 2,
      "outputs": []
    },
    {
      "cell_type": "code",
      "source": [
        "class PerformanceTracker:\n",
        "    def __init__(self):\n",
        "        self.students = {}\n",
        "        self.passing_score = 40  # Default passing score\n",
        "\n",
        "    def add_student(self, name, scores):\n",
        "        if name in self.students:\n",
        "            print(f\"Student {name} already exists. Overwriting data.\")\n",
        "        self.students[name] = Student(name, scores)\n",
        "\n",
        "    def calculate_class_average(self):\n",
        "        if not self.students:\n",
        "            return 0\n",
        "        total_scores = sum(student.calculate_average() for student in self.students.values())\n",
        "        return total_scores / len(self.students)\n",
        "\n",
        "    def display_student_performance(self):\n",
        "        if not self.students:\n",
        "            print(\"No students available to display.\")\n",
        "            return\n",
        "\n",
        "        print(\"\\nStudent Performance:\")\n",
        "        for student in self.students.values():\n",
        "            average = student.calculate_average()\n",
        "            status = \"Passing\" if student.is_passing(self.passing_score) else \"Failing\"\n",
        "            print(f\"{student.name}: Average = {average:.2f}, Status = {status}\")\n",
        "\n",
        "        class_average = self.calculate_class_average()\n",
        "        print(f\"\\nClass Average: {class_average:.2f}\")\n",
        "\n",
        "\n",
        "def main():\n",
        "    tracker = PerformanceTracker()\n",
        "    while True:\n",
        "        print(\"\\n--- Student Performance Tracker ---\")\n",
        "        name = input(\"Enter student's name (or type 'exit' to finish): \").strip()\n",
        "        if name.lower() == 'exit':\n",
        "            break\n",
        "\n",
        "        try:\n",
        "            scores = []\n",
        "            for subject in [\"Math\", \"Science\", \"English\"]:\n",
        "                score = int(input(f\"Enter {subject} score for {name}: \"))\n",
        "                scores.append(score)\n",
        "        except ValueError:\n",
        "            print(\"Invalid input. Please enter numeric scores.\")\n",
        "            continue\n",
        "\n",
        "        tracker.add_student(name, scores)\n",
        "\n",
        "    tracker.display_student_performance()\n",
        "\n",
        "\n",
        "if __name__ == \"__main__\":\n",
        "    main()\n"
      ],
      "metadata": {
        "id": "lhdsK2zSL6XW"
      },
      "execution_count": null,
      "outputs": []
    },
    {
      "cell_type": "code",
      "source": [],
      "metadata": {
        "id": "DLPsGJjNMKMh"
      },
      "execution_count": 1,
      "outputs": []
    }
  ]
}